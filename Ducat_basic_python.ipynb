{
 "cells": [
  {
   "cell_type": "code",
   "execution_count": 3,
   "id": "9d9aae7b",
   "metadata": {},
   "outputs": [
    {
     "name": "stdout",
     "output_type": "stream",
     "text": [
      "your sum is 30\n"
     ]
    }
   ],
   "source": [
    "a =10\n",
    "b = 20\n",
    "sum = a + b\n",
    "print(\"your sum is\", sum)"
   ]
  },
  {
   "cell_type": "code",
   "execution_count": 4,
   "id": "55d2f85d",
   "metadata": {},
   "outputs": [
    {
     "name": "stdout",
     "output_type": "stream",
     "text": [
      "first number \n",
      "10\n",
      "second number \n",
      "20\n",
      "sum of 2 numbers is 30\n"
     ]
    }
   ],
   "source": [
    "x = int(input(\"first number \\n\"))\n",
    "y = int(input(\"second number \\n\"))\n",
    "sum = x+y\n",
    "print(\"sum of 2 numbers is\", sum)"
   ]
  },
  {
   "cell_type": "code",
   "execution_count": 5,
   "id": "97ba9f07",
   "metadata": {},
   "outputs": [
    {
     "name": "stdout",
     "output_type": "stream",
     "text": [
      "<class 'str'>\n"
     ]
    }
   ],
   "source": [
    "print(type(\"20\"))"
   ]
  },
  {
   "cell_type": "code",
   "execution_count": 6,
   "id": "e6943ef5",
   "metadata": {},
   "outputs": [
    {
     "data": {
      "text/plain": [
       "32"
      ]
     },
     "execution_count": 6,
     "metadata": {},
     "output_type": "execute_result"
    }
   ],
   "source": [
    "2**5"
   ]
  },
  {
   "cell_type": "code",
   "execution_count": 7,
   "id": "2d62a441",
   "metadata": {},
   "outputs": [
    {
     "data": {
      "text/plain": [
       "27"
      ]
     },
     "execution_count": 7,
     "metadata": {},
     "output_type": "execute_result"
    }
   ],
   "source": [
    "3**3\n"
   ]
  },
  {
   "cell_type": "code",
   "execution_count": 9,
   "id": "0bd2b93a",
   "metadata": {},
   "outputs": [
    {
     "name": "stdout",
     "output_type": "stream",
     "text": [
      "True\n",
      "False\n"
     ]
    }
   ],
   "source": [
    "d = \"i m a python coder!!\"\n",
    "print(d.endswith(\"!\"))\n",
    "print(d.endswith(\"r\"))"
   ]
  },
  {
   "cell_type": "code",
   "execution_count": 11,
   "id": "10e52ffa",
   "metadata": {},
   "outputs": [
    {
     "name": "stdout",
     "output_type": "stream",
     "text": [
      "I m a python coder!!\n",
      "i am a python coder!!\n"
     ]
    }
   ],
   "source": [
    "print(d.capitalize())\n",
    "print(d.replace(\"m\", \"am\"))"
   ]
  },
  {
   "cell_type": "code",
   "execution_count": 12,
   "id": "1a9f11e1",
   "metadata": {},
   "outputs": [
    {
     "name": "stdout",
     "output_type": "stream",
     "text": [
      "6\n"
     ]
    }
   ],
   "source": [
    "print(d.find(\"p\"))"
   ]
  },
  {
   "cell_type": "code",
   "execution_count": 13,
   "id": "131f84d5",
   "metadata": {},
   "outputs": [
    {
     "name": "stdout",
     "output_type": "stream",
     "text": [
      "2\n"
     ]
    }
   ],
   "source": [
    "print(d.count(\"o\"))"
   ]
  },
  {
   "cell_type": "code",
   "execution_count": 16,
   "id": "14274212",
   "metadata": {},
   "outputs": [
    {
     "name": "stdout",
     "output_type": "stream",
     "text": [
      "enter your age19\n",
      "eligible\n"
     ]
    }
   ],
   "source": [
    "age = int(input(\"enter your age\"))\n",
    "if(age>=18):\n",
    "    print(\"eligible\")\n",
    "else:\n",
    "    print(\"not eligible\")"
   ]
  },
  {
   "cell_type": "code",
   "execution_count": 19,
   "id": "02d1e773",
   "metadata": {},
   "outputs": [
    {
     "name": "stdout",
     "output_type": "stream",
     "text": [
      "enter your no\n",
      "68\n",
      "even\n"
     ]
    }
   ],
   "source": [
    "# even odd\n",
    "num = int(input(\"enter your no\\n\"))\n",
    "if(num%2 == 0):\n",
    "    print(\"even\")\n",
    "else:\n",
    "    print(\"odd\")"
   ]
  },
  {
   "cell_type": "code",
   "execution_count": 22,
   "id": "96809e1c",
   "metadata": {},
   "outputs": [
    {
     "name": "stdout",
     "output_type": "stream",
     "text": [
      "enter no 1 \n",
      "67\n",
      "enter no 2 \n",
      "98\n",
      "enter no 3 \n",
      "5\n",
      "98 is greater\n"
     ]
    }
   ],
   "source": [
    "e = int(input(\"enter no 1 \\n\"))\n",
    "f = int(input(\"enter no 2 \\n\"))\n",
    "g = int(input(\"enter no 3 \\n\"))\n",
    "\n",
    "if((e>f) and (e>g)):\n",
    "    print(e ,\"is greater\")\n",
    "elif((f>e) and (f>g)):\n",
    "    print(f, \"is greater\")\n",
    "else:\n",
    "    print(g, \"is greater\")"
   ]
  },
  {
   "cell_type": "code",
   "execution_count": 25,
   "id": "85fee950",
   "metadata": {},
   "outputs": [
    {
     "name": "stdout",
     "output_type": "stream",
     "text": [
      "enter user name\n",
      "admin\n",
      "enter your password\n",
      "password123\n",
      "welcome admin !!\n"
     ]
    }
   ],
   "source": [
    "user = input(\"enter user name\\n\")\n",
    "password = input(\"enter your password\\n\")\n",
    "\n",
    "if(user==\"admin\" and password==\"password123\"):\n",
    "    print(\"welcome\", user, \"!!\")\n",
    "else:\n",
    "    print(\"Info incorrect. Try again\")\n",
    "    \n"
   ]
  },
  {
   "cell_type": "code",
   "execution_count": 26,
   "id": "685285f6",
   "metadata": {},
   "outputs": [
    {
     "ename": "SyntaxError",
     "evalue": "invalid syntax. Maybe you meant '==' or ':=' instead of '='? (429800069.py, line 4)",
     "output_type": "error",
     "traceback": [
      "\u001b[1;36m  Cell \u001b[1;32mIn[26], line 4\u001b[1;36m\u001b[0m\n\u001b[1;33m    if(user=\"admin\" and password=\"password123\"):\u001b[0m\n\u001b[1;37m       ^\u001b[0m\n\u001b[1;31mSyntaxError\u001b[0m\u001b[1;31m:\u001b[0m invalid syntax. Maybe you meant '==' or ':=' instead of '='?\n"
     ]
    }
   ],
   "source": [
    "user = input(\"enter user name\\n\")\n",
    "password = input(\"enter your password\\n\")\n",
    "\n",
    "if(user=\"admin\" and password=\"password123\"):\n",
    "    print(\"welcome\", user, \"!!\")\n",
    "else:\n",
    "    print(\"Info incorrect. Try again\")"
   ]
  },
  {
   "cell_type": "code",
   "execution_count": 29,
   "id": "59306780",
   "metadata": {},
   "outputs": [
    {
     "name": "stdout",
     "output_type": "stream",
     "text": [
      "[20, 30, 40]\n",
      "None\n",
      "None\n",
      "None\n"
     ]
    }
   ],
   "source": [
    "marks = [20, 30, 40]\n",
    "print(marks)\n",
    "print(marks.append(80))\n",
    "print(marks.sort())\n",
    "print(marks.sort(reverse=True))"
   ]
  },
  {
   "cell_type": "code",
   "execution_count": 32,
   "id": "80140cb4",
   "metadata": {},
   "outputs": [
    {
     "name": "stdout",
     "output_type": "stream",
     "text": [
      "[20, 40, 30, 80]\n",
      "[20, 30, 40, 80]\n",
      "[80, 40, 30, 20]\n",
      "[20, 30, 40, 80]\n"
     ]
    }
   ],
   "source": [
    "marks = [20, 40, 30]\n",
    "marks.append(80)\n",
    "print(marks)\n",
    "\n",
    "marks.sort()\n",
    "print(marks)\n",
    "\n",
    "\n",
    "marks.sort(reverse=True)\n",
    "print(marks)\n",
    "\n",
    "marks.reverse()\n",
    "print(marks)"
   ]
  },
  {
   "cell_type": "code",
   "execution_count": 34,
   "id": "e1e9a8a5",
   "metadata": {},
   "outputs": [
    {
     "name": "stdout",
     "output_type": "stream",
     "text": [
      "[20, 30, 10, 10, 40, 80]\n",
      "[80, 40, 10, 10, 30, 20]\n"
     ]
    }
   ],
   "source": [
    "marks.insert(2, 10)\n",
    "print(marks)\n",
    "\n",
    "marks.reverse()\n",
    "print(marks)"
   ]
  },
  {
   "cell_type": "code",
   "execution_count": 35,
   "id": "518c6af4",
   "metadata": {},
   "outputs": [
    {
     "name": "stdout",
     "output_type": "stream",
     "text": [
      "[80, 40, 10, 30, 20]\n"
     ]
    }
   ],
   "source": [
    "#remove- pass value -> first occurance of that value removed\n",
    "marks.remove(10)\n",
    "print(marks)"
   ]
  },
  {
   "cell_type": "code",
   "execution_count": 37,
   "id": "a7a1e514",
   "metadata": {},
   "outputs": [
    {
     "name": "stdout",
     "output_type": "stream",
     "text": [
      "[80, 30, 20]\n"
     ]
    }
   ],
   "source": [
    "#pop- pass index no\n",
    "marks.pop(1)\n",
    "print(marks)"
   ]
  },
  {
   "cell_type": "code",
   "execution_count": 39,
   "id": "97f44e03",
   "metadata": {},
   "outputs": [
    {
     "name": "stdout",
     "output_type": "stream",
     "text": [
      "enter you fvt movie 1 \n",
      "YJHD\n",
      "enter you fvt movie 2 \n",
      "DDLJ\n",
      "enter you fvt movie 3 \n",
      "JAB WE MET\n",
      "['YJHD', 'DDLJ', 'JAB WE MET']\n"
     ]
    }
   ],
   "source": [
    "movies = []\n",
    "mov1 = input(\"enter you fvt movie 1 \\n\")\n",
    "mov2 = input(\"enter you fvt movie 2 \\n\")\n",
    "mov3 = input(\"enter you fvt movie 3 \\n\")\n",
    "\n",
    "movies.append(mov1)\n",
    "movies.append(mov2)\n",
    "movies.append(mov3)\n",
    "print(movies)"
   ]
  },
  {
   "cell_type": "code",
   "execution_count": 8,
   "id": "ae11363b",
   "metadata": {},
   "outputs": [
    {
     "name": "stdout",
     "output_type": "stream",
     "text": [
      "{'name': 'pooja', 'city': 'ggn', 'marks': [90, 78, 66]}\n"
     ]
    }
   ],
   "source": [
    "student = {\n",
    "    \"name\" : \"pooja\",\n",
    "    \"city\" : \"ggn\",\n",
    "    \"marks\" : [90, 78, 66]\n",
    "}\n",
    "\n",
    "print (student)"
   ]
  },
  {
   "cell_type": "code",
   "execution_count": 9,
   "id": "0c218c96",
   "metadata": {},
   "outputs": [
    {
     "name": "stdout",
     "output_type": "stream",
     "text": [
      "dict_keys(['name', 'city', 'marks'])\n"
     ]
    }
   ],
   "source": [
    "print(student.keys())"
   ]
  },
  {
   "cell_type": "code",
   "execution_count": 10,
   "id": "200a625a",
   "metadata": {},
   "outputs": [
    {
     "name": "stdout",
     "output_type": "stream",
     "text": [
      "{'name': 'pooja', 'city': 'hr', 'marks': [90, 78, 66]}\n"
     ]
    }
   ],
   "source": [
    "stu1 = {\n",
    "    \"city\" : \"hr\"\n",
    "}\n",
    "\n",
    "student.update(stu1)\n",
    "print(student)"
   ]
  },
  {
   "cell_type": "code",
   "execution_count": 11,
   "id": "e690d8b9",
   "metadata": {},
   "outputs": [
    {
     "name": "stdout",
     "output_type": "stream",
     "text": [
      "dict_values(['pooja', 'hr', [90, 78, 66]])\n"
     ]
    }
   ],
   "source": [
    "print(student.values())"
   ]
  },
  {
   "cell_type": "code",
   "execution_count": 13,
   "id": "d2958123",
   "metadata": {},
   "outputs": [
    {
     "name": "stdout",
     "output_type": "stream",
     "text": [
      "66\n"
     ]
    }
   ],
   "source": [
    "print(student[\"marks\"][2])"
   ]
  },
  {
   "cell_type": "code",
   "execution_count": 15,
   "id": "9001e23c",
   "metadata": {},
   "outputs": [
    {
     "name": "stdout",
     "output_type": "stream",
     "text": [
      "True\n"
     ]
    }
   ],
   "source": [
    "print(\"marks\" in student)"
   ]
  },
  {
   "cell_type": "code",
   "execution_count": 16,
   "id": "33e7b54d",
   "metadata": {},
   "outputs": [
    {
     "name": "stdout",
     "output_type": "stream",
     "text": [
      "True\n"
     ]
    }
   ],
   "source": [
    "print(90 in student[\"marks\"])"
   ]
  },
  {
   "cell_type": "markdown",
   "id": "90b8aedd",
   "metadata": {},
   "source": [
    "### class 4 loops"
   ]
  },
  {
   "cell_type": "code",
   "execution_count": 1,
   "id": "27b8dc33",
   "metadata": {},
   "outputs": [
    {
     "name": "stdout",
     "output_type": "stream",
     "text": [
      "1\n",
      "2\n",
      "3\n",
      "4\n",
      "5\n"
     ]
    }
   ],
   "source": [
    "i = 1\n",
    "while (i<=5):\n",
    "    print(i)\n",
    "    i+=1\n",
    "    "
   ]
  },
  {
   "cell_type": "code",
   "execution_count": 6,
   "id": "0f1763b6",
   "metadata": {},
   "outputs": [
    {
     "name": "stdout",
     "output_type": "stream",
     "text": [
      "10\n",
      "8\n",
      "6\n",
      "4\n",
      "2\n"
     ]
    }
   ],
   "source": [
    "i = 10\n",
    "while (i>=1):\n",
    "    print(i)\n",
    "    i-=2"
   ]
  },
  {
   "cell_type": "code",
   "execution_count": 8,
   "id": "52e8f25f",
   "metadata": {},
   "outputs": [
    {
     "name": "stdout",
     "output_type": "stream",
     "text": [
      "1\n",
      "3\n"
     ]
    }
   ],
   "source": [
    "i = 1\n",
    "while (i<=10):\n",
    "    if(i==5):\n",
    "        break\n",
    "    else:\n",
    "        print(i)\n",
    "        i+=2"
   ]
  },
  {
   "cell_type": "markdown",
   "id": "e02b8bff",
   "metadata": {},
   "source": [
    "#### mass comment options\n",
    "shift + ?\n",
    " "
   ]
  },
  {
   "cell_type": "code",
   "execution_count": 1,
   "id": "831fb31a",
   "metadata": {},
   "outputs": [
    {
     "name": "stdout",
     "output_type": "stream",
     "text": [
      "1\n",
      "2\n",
      "3\n",
      "5\n"
     ]
    }
   ],
   "source": [
    "i = 1\n",
    "while (i<=5):\n",
    "    if(i==4):\n",
    "        i+=1\n",
    "        continue\n",
    "    else:\n",
    "        print(i)\n",
    "        i+=1"
   ]
  },
  {
   "cell_type": "code",
   "execution_count": 2,
   "id": "893f6bee",
   "metadata": {},
   "outputs": [
    {
     "name": "stdout",
     "output_type": "stream",
     "text": [
      "Enter a number5\n",
      "5  *  1  =  5\n",
      "5  *  2  =  10\n",
      "5  *  3  =  15\n",
      "5  *  4  =  20\n",
      "5  *  5  =  25\n",
      "5  *  6  =  30\n",
      "5  *  7  =  35\n",
      "5  *  8  =  40\n",
      "5  *  9  =  45\n",
      "5  *  10  =  50\n"
     ]
    }
   ],
   "source": [
    "n = int(input(\"Enter a number\"))\n",
    "\n",
    "i=1\n",
    "while (i<=10):\n",
    "    print(n , \" * \" , i , \" = \", n*i )\n",
    "    i+=1"
   ]
  },
  {
   "cell_type": "code",
   "execution_count": 3,
   "id": "112d4eea",
   "metadata": {},
   "outputs": [
    {
     "name": "stdout",
     "output_type": "stream",
     "text": [
      "20\n",
      "15\n",
      "25\n",
      "28\n",
      "30\n",
      "35\n"
     ]
    }
   ],
   "source": [
    "ListN = [20, 15, 25, 28, 30,35]\n",
    "\n",
    "for i in ListN:\n",
    "    print(i)"
   ]
  },
  {
   "cell_type": "code",
   "execution_count": 4,
   "id": "97c6415f",
   "metadata": {},
   "outputs": [
    {
     "name": "stdout",
     "output_type": "stream",
     "text": [
      "0\n",
      "1\n",
      "2\n",
      "3\n",
      "4\n"
     ]
    }
   ],
   "source": [
    "for i in range(5):\n",
    "    print(i)"
   ]
  },
  {
   "cell_type": "code",
   "execution_count": 5,
   "id": "6f1422fe",
   "metadata": {},
   "outputs": [
    {
     "name": "stdout",
     "output_type": "stream",
     "text": [
      "1\n",
      "2\n",
      "3\n",
      "4\n"
     ]
    }
   ],
   "source": [
    "for i in range(1, 5):\n",
    "    print(i)"
   ]
  },
  {
   "cell_type": "code",
   "execution_count": 6,
   "id": "932246f1",
   "metadata": {},
   "outputs": [
    {
     "name": "stdout",
     "output_type": "stream",
     "text": [
      "1\n",
      "3\n"
     ]
    }
   ],
   "source": [
    "for i in range(1, 5, 2):\n",
    "    print(i)"
   ]
  },
  {
   "cell_type": "code",
   "execution_count": 7,
   "id": "837309d3",
   "metadata": {},
   "outputs": [
    {
     "name": "stdout",
     "output_type": "stream",
     "text": [
      "25\n",
      "12\n",
      "33\n",
      "55\n",
      "12\n"
     ]
    }
   ],
   "source": [
    "nos = [25, 12, 33, 55, 12]\n",
    "for i in range(len(nos)):\n",
    "    print(nos[i])"
   ]
  },
  {
   "cell_type": "code",
   "execution_count": 8,
   "id": "9b338bca",
   "metadata": {},
   "outputs": [
    {
     "name": "stdout",
     "output_type": "stream",
     "text": [
      "12\n",
      "55\n"
     ]
    }
   ],
   "source": [
    "for i in range(1, len(nos), 2):\n",
    "    print(nos[i])"
   ]
  },
  {
   "cell_type": "code",
   "execution_count": 13,
   "id": "f4e98c90",
   "metadata": {},
   "outputs": [
    {
     "name": "stdout",
     "output_type": "stream",
     "text": [
      "Enter any no /n3\n",
      "6\n"
     ]
    }
   ],
   "source": [
    "# make factorial\n",
    "n = int(input(\"Enter any no /n\"))\n",
    "\n",
    "fact = 1\n",
    "i = 1\n",
    "\n",
    "while (i<=n):\n",
    "    fact = fact * i\n",
    "    i+=1\n",
    "    \n",
    "print(fact)"
   ]
  },
  {
   "cell_type": "code",
   "execution_count": 19,
   "id": "d0bc1d39",
   "metadata": {},
   "outputs": [
    {
     "name": "stdout",
     "output_type": "stream",
     "text": [
      "Enter value5\n",
      "15\n"
     ]
    }
   ],
   "source": [
    "# sum \n",
    "x = int(input(\"Enter value\"))\n",
    "\n",
    "sum = 0\n",
    "i = 1\n",
    "\n",
    "while (i<=x):\n",
    "    sum = sum + i\n",
    "    i += 1\n",
    "    \n",
    "print(sum)"
   ]
  },
  {
   "cell_type": "markdown",
   "id": "0693a56e",
   "metadata": {},
   "source": [
    "### Class 5"
   ]
  },
  {
   "cell_type": "code",
   "execution_count": 10,
   "id": "911916cb",
   "metadata": {},
   "outputs": [
    {
     "name": "stdout",
     "output_type": "stream",
     "text": [
      "Enter any no\n",
      "10\n",
      "Not a prime no  10\n"
     ]
    }
   ],
   "source": [
    "#prime no\n",
    "\n",
    "n = int(input(\"Enter any no\\n\"))\n",
    "\n",
    "\n",
    "if(n <=1):\n",
    "    i+=1\n",
    "\n",
    "else:\n",
    "    for i in range(2,n):\n",
    "        if (n%i==0):\n",
    "            print (\"Not a prime no \", n)\n",
    "            break\n",
    "        else:\n",
    "            print (\"Prime No \", n)\n",
    "    \n"
   ]
  },
  {
   "cell_type": "code",
   "execution_count": 11,
   "id": "c522d4a4",
   "metadata": {},
   "outputs": [],
   "source": [
    "#palindrome and armstrong example pending"
   ]
  },
  {
   "cell_type": "code",
   "execution_count": 14,
   "id": "a4651891",
   "metadata": {},
   "outputs": [
    {
     "name": "stdout",
     "output_type": "stream",
     "text": [
      "Enter any no for Fibonacci sequence4\n",
      "0 1 2 4 "
     ]
    }
   ],
   "source": [
    "#Fibonacci sequence \n",
    "n = int(input(\"Enter any no for Fibonacci sequence\"))\n",
    "a = 0\n",
    "b = 1\n",
    "\n",
    "for i in range(n):\n",
    "    print (a, end = \" \")\n",
    "    a = b\n",
    "    b = a+b"
   ]
  },
  {
   "cell_type": "markdown",
   "id": "ea125e80",
   "metadata": {},
   "source": [
    "## function- block of use, code reusability"
   ]
  },
  {
   "cell_type": "code",
   "execution_count": 18,
   "id": "ebda2259",
   "metadata": {},
   "outputs": [],
   "source": [
    "def sum(a, b):\n",
    "    return a+b"
   ]
  },
  {
   "cell_type": "code",
   "execution_count": 19,
   "id": "c11afe8c",
   "metadata": {},
   "outputs": [
    {
     "data": {
      "text/plain": [
       "50"
      ]
     },
     "execution_count": 19,
     "metadata": {},
     "output_type": "execute_result"
    }
   ],
   "source": [
    "sum(20, 30)"
   ]
  },
  {
   "cell_type": "code",
   "execution_count": 22,
   "id": "417387fb",
   "metadata": {},
   "outputs": [],
   "source": [
    "def is_armstrong(n):\n",
    "    temp = n\n",
    "    sum = 0\n",
    "    \n",
    "    while(temp!=0):\n",
    "        rem = temp%10\n",
    "        sum = sum + rem**3\n",
    "        temp = temp // 10\n",
    "        \n",
    "    if(n == sum):\n",
    "        print (n, \"is an armstrong no\")\n",
    "    else:\n",
    "        print(n, \"is not an armstrong no\")\n",
    "        "
   ]
  },
  {
   "cell_type": "code",
   "execution_count": 23,
   "id": "f3ad010c",
   "metadata": {},
   "outputs": [
    {
     "name": "stdout",
     "output_type": "stream",
     "text": [
      "153 is an armstrong no\n"
     ]
    }
   ],
   "source": [
    "is_armstrong(153)"
   ]
  },
  {
   "cell_type": "code",
   "execution_count": 24,
   "id": "6c07a82d",
   "metadata": {},
   "outputs": [
    {
     "name": "stdout",
     "output_type": "stream",
     "text": [
      "121 is not an armstrong no\n"
     ]
    }
   ],
   "source": [
    "is_armstrong(121)"
   ]
  },
  {
   "cell_type": "code",
   "execution_count": 25,
   "id": "8c5fa1fc",
   "metadata": {},
   "outputs": [],
   "source": [
    "def is_pallendrome(n):\n",
    "    temp = n\n",
    "    sum = 0\n",
    "    \n",
    "    while temp >0 :\n",
    "        rem = temp % 10\n",
    "        sum = sum * 10 + rem\n",
    "        temp = temp // 10\n",
    "        \n",
    "    if (n == sum):\n",
    "        print (n, \"is a pallendrome element\")\n",
    "    else:\n",
    "        print(n, \"is not a pallendrome element\")\n",
    "        "
   ]
  },
  {
   "cell_type": "code",
   "execution_count": 26,
   "id": "4e5a9d59",
   "metadata": {},
   "outputs": [
    {
     "name": "stdout",
     "output_type": "stream",
     "text": [
      "121 is a pallendrome element\n"
     ]
    }
   ],
   "source": [
    "is_pallendrome(121)"
   ]
  },
  {
   "cell_type": "code",
   "execution_count": 28,
   "id": "665a892c",
   "metadata": {},
   "outputs": [
    {
     "name": "stdout",
     "output_type": "stream",
     "text": [
      "1551 is a pallendrome element\n"
     ]
    }
   ],
   "source": [
    "is_pallendrome(1551)"
   ]
  },
  {
   "cell_type": "code",
   "execution_count": 29,
   "id": "bfe7a134",
   "metadata": {},
   "outputs": [
    {
     "name": "stdout",
     "output_type": "stream",
     "text": [
      "1\n",
      "1\n",
      "12\n",
      "2\n",
      "12\n",
      "1\n",
      "1\n",
      "121\n",
      "0\n",
      "121 is a pallendrome element\n"
     ]
    }
   ],
   "source": [
    "def pallendrome(n):\n",
    "    temp = n\n",
    "    sum = 0\n",
    "    \n",
    "    while temp >0 :\n",
    "        rem = temp % 10\n",
    "        print(rem)\n",
    "        sum = sum * 10 + rem\n",
    "        print(sum)\n",
    "        temp = temp // 10\n",
    "        print(temp)\n",
    "        \n",
    "    if (n == sum):\n",
    "        print (n, \"is a pallendrome element\")\n",
    "    else:\n",
    "        print(n, \"is not a pallendrome element\")\n",
    "        \n",
    "pallendrome(121)"
   ]
  },
  {
   "cell_type": "markdown",
   "id": "45683858",
   "metadata": {},
   "source": [
    "### Recursion- function k ander function"
   ]
  },
  {
   "cell_type": "code",
   "execution_count": 3,
   "id": "dc9b596c",
   "metadata": {},
   "outputs": [],
   "source": [
    "# recurssion\n",
    "def fact(n):\n",
    "    if(n==0 or n==1):\n",
    "        return 1\n",
    "    return n * fact(n-1)"
   ]
  },
  {
   "cell_type": "code",
   "execution_count": 5,
   "id": "d1ee07ef",
   "metadata": {},
   "outputs": [
    {
     "data": {
      "text/plain": [
       "120"
      ]
     },
     "execution_count": 5,
     "metadata": {},
     "output_type": "execute_result"
    }
   ],
   "source": [
    "fact(5)"
   ]
  },
  {
   "cell_type": "code",
   "execution_count": 7,
   "id": "68c24c05",
   "metadata": {},
   "outputs": [
    {
     "data": {
      "text/plain": [
       "6"
      ]
     },
     "execution_count": 7,
     "metadata": {},
     "output_type": "execute_result"
    }
   ],
   "source": [
    "fact (3)"
   ]
  },
  {
   "cell_type": "markdown",
   "id": "86ca919e-7dce-4eb9-8ba0-a996c1f242eb",
   "metadata": {},
   "source": [
    "# File handling- Open , Read, Write, Close files\n",
    " Types of files-\n",
    " 1. text files- .txt, .doc, \n",
    " 2. binary files- .mp4. mp3, etc\n",
    "\n",
    "\n",
    "## R, W, A || R+, W+, A+\n",
    "Read- read the data\n",
    "write- overwrite\n",
    "append - write after end \n",
    "\n",
    "R+ -> Read and overwrite data, no truncate, pointer at the begining\n",
    "W+ -> read and overwrite data, trucncate, \n",
    "A+ -> read and append data, no truncate, pointer at the end"
   ]
  },
  {
   "cell_type": "code",
   "execution_count": 12,
   "id": "8752568c-0660-4849-a58a-619e682bcea1",
   "metadata": {},
   "outputs": [
    {
     "name": "stdout",
     "output_type": "stream",
     "text": [
      "This is a sample data.\n",
      "Please read the data.\n"
     ]
    }
   ],
   "source": [
    "f = open(\"ducate_file_handling.txt\", \"r\")\n",
    "data = f.read()\n",
    "print(data)\n",
    "f.close()"
   ]
  },
  {
   "cell_type": "code",
   "execution_count": 18,
   "id": "86d84dfa-f41b-4d96-9ac6-4032e5cfe8fa",
   "metadata": {},
   "outputs": [
    {
     "name": "stdout",
     "output_type": "stream",
     "text": [
      "This is a sample data.\n",
      "\n",
      "Please read the data.\n"
     ]
    }
   ],
   "source": [
    "# read- read all data\n",
    "# readline- read current line\n",
    "\n",
    "f = open(\"ducate_file_handling.txt\", \"r\")\n",
    "data2 = f.readline()\n",
    "print(data2)\n",
    "\n",
    "data3 = f.readline()\n",
    "print(data3)"
   ]
  },
  {
   "cell_type": "code",
   "execution_count": 36,
   "id": "dcdcc2bb-838b-46c5-9f67-71a069720d64",
   "metadata": {},
   "outputs": [
    {
     "name": "stdout",
     "output_type": "stream",
     "text": [
      "18\n"
     ]
    }
   ],
   "source": [
    "# w & w+ are same- delete all existing data and then write \n",
    "with open (\"ducate_file_handling.txt\", \"w\") as f:\n",
    "    data = f.write(\"This is something.\")\n",
    "    print (data)"
   ]
  },
  {
   "cell_type": "code",
   "execution_count": 38,
   "id": "62753023-81ef-4d1c-afee-88651ed04b46",
   "metadata": {},
   "outputs": [
    {
     "name": "stdout",
     "output_type": "stream",
     "text": [
      "25\n"
     ]
    }
   ],
   "source": [
    "#a = appending data at the end\n",
    "with open (\"ducate_file_handling.txt\", \"a\") as f:\n",
    "    data = f.write(\"\\nThis is my appended data\")\n",
    "    print (data)"
   ]
  },
  {
   "cell_type": "code",
   "execution_count": 40,
   "id": "8ca338e5-efa0-4fc5-b38b-06fdb83702e9",
   "metadata": {},
   "outputs": [
    {
     "name": "stdout",
     "output_type": "stream",
     "text": [
      "7\n"
     ]
    }
   ],
   "source": [
    "#r+ = overwrite on existing data\n",
    "with open (\"ducate_file_handling.txt\", \"r+\") as f:\n",
    "    data = f.write(\"Ducate.\")\n",
    "    print (data)"
   ]
  },
  {
   "cell_type": "code",
   "execution_count": 44,
   "id": "95544fcb-de85-40af-905c-63c20e4bef96",
   "metadata": {},
   "outputs": [
    {
     "name": "stdout",
     "output_type": "stream",
     "text": [
      "13\n"
     ]
    }
   ],
   "source": [
    "#w & w+ are same = delete all existing data and then write \n",
    "with open (\"ducate_file_handling.txt\", \"w+\") as f:\n",
    "    data = f.write(\"Look at this,\")\n",
    "    print (data)"
   ]
  },
  {
   "cell_type": "code",
   "execution_count": 48,
   "id": "4820ca9f-3e69-4218-a4b8-c44c21a0c976",
   "metadata": {},
   "outputs": [
    {
     "name": "stdout",
     "output_type": "stream",
     "text": [
      "22\n"
     ]
    }
   ],
   "source": [
    "#a+ = overwrite on existing data\n",
    "with open (\"ducate_file_handling.txt\", \"a+\") as f:\n",
    "    data = f.write(\"Ducate. \\nSounds Great.\")\n",
    "    print (data)"
   ]
  },
  {
   "cell_type": "markdown",
   "id": "d4332a48-6e2c-4bce-873c-11033df09b35",
   "metadata": {},
   "source": [
    "# Import OS"
   ]
  },
  {
   "cell_type": "code",
   "execution_count": 51,
   "id": "9a3faf3f-61c3-4d82-ba07-7bec3f824222",
   "metadata": {},
   "outputs": [],
   "source": [
    "import os"
   ]
  },
  {
   "cell_type": "code",
   "execution_count": 55,
   "id": "a81a2863-9ad4-4b64-8607-340aa68ab8e1",
   "metadata": {},
   "outputs": [
    {
     "name": "stdout",
     "output_type": "stream",
     "text": [
      "C:\\Users\\dmm\n"
     ]
    }
   ],
   "source": [
    "# cwd - current working directory- its gives directory path\n",
    "print(os.getcwd())"
   ]
  },
  {
   "cell_type": "code",
   "execution_count": 59,
   "id": "2e4dc906-079a-46d1-a20f-f43d4e60cca9",
   "metadata": {},
   "outputs": [
    {
     "name": "stdout",
     "output_type": "stream",
     "text": [
      "File Exist\n"
     ]
    }
   ],
   "source": [
    "if(os.path.exists(\"ducate_file_handling.txt\")):\n",
    "    print (\"File Exist\")\n",
    "else:\n",
    "    print (\"Doesn't exist\")"
   ]
  },
  {
   "cell_type": "code",
   "execution_count": 61,
   "id": "6c2ae51f-b367-478e-8cc0-3d6c9d65ba96",
   "metadata": {},
   "outputs": [
    {
     "name": "stdout",
     "output_type": "stream",
     "text": [
      "os.stat_result(st_mode=33206, st_ino=7881299347916282, st_dev=1156908334006787976, st_nlink=1, st_uid=0, st_gid=0, st_size=43, st_atime=1746534364, st_mtime=1746534358, st_ctime=1746531903)\n"
     ]
    }
   ],
   "source": [
    "#os.stat- gives details about file mean , median, SD\n",
    "file_info = os.stat(\"ducate_file_handling.txt\")\n",
    "print(file_info)"
   ]
  },
  {
   "cell_type": "code",
   "execution_count": 65,
   "id": "416b62bb-03fe-4b9f-92ed-2838ee696f9f",
   "metadata": {},
   "outputs": [],
   "source": [
    "# rename- as its suggest it remane file\n",
    "\n",
    "#os.rename(\"ducate_file_handling.txt\", \"Hello.txt\")\n",
    "#os.rename(\"Hello.txt\", \"ducate_file_handling.txt\")"
   ]
  },
  {
   "cell_type": "code",
   "execution_count": 69,
   "id": "d977ab25-7155-4ea1-bbd3-dcfddf23b38a",
   "metadata": {},
   "outputs": [],
   "source": [
    "#delete file\n",
    "os.remove(\"ducate_file_handling.txt\")\n"
   ]
  },
  {
   "cell_type": "code",
   "execution_count": 73,
   "id": "53c504dc-3116-47cb-af58-8a3c413d12df",
   "metadata": {},
   "outputs": [
    {
     "name": "stdout",
     "output_type": "stream",
     "text": [
      "18\n"
     ]
    }
   ],
   "source": [
    "# create new text file\n",
    "file_path = \"ducate_file_handling.txt\"\n",
    "\n",
    "with open (file_path, \"w\") as f:\n",
    "    data = f.write(\"This is something.\")\n",
    "    print (data)"
   ]
  },
  {
   "cell_type": "markdown",
   "id": "508d9a48-4a4b-4eb8-b05c-450da9b2ecc8",
   "metadata": {},
   "source": [
    "# OOPS- object oriented programing\n",
    "\n",
    "### attributes - class &  objects\n",
    "1. class is a collection of objects.\n",
    "2. class is a logical entity\n",
    "3. class consist of attributes, behaviour & method.\n",
    "4. object is blueprint of class.\n",
    "5. object is a real world entity."
   ]
  },
  {
   "cell_type": "markdown",
   "id": "7d4aefe9-977a-45d1-aa29-26a005177d3c",
   "metadata": {},
   "source": [
    "## Pillars of OOPS\n",
    "### Data Abstraction- \n",
    "1. data means data, abstract means- hide.\n",
    "2. so this indicate hiding internal details showing only the fuctionality.\n",
    "3. example1- 1 person end msg to 2 person. It was read and replied. Do they have to know the backend coding?\n",
    "4. example2- there is 1 car and you started engine and they went on a drive. do they have to know hoe the engine is started?\n",
    "5. example3- bank transtion dr and cr. fuctionality.\n",
    "### Polymorphism- \n",
    "1. poly means many, morphism means- forms.\n",
    "2. when a object have more than 1 form.\n",
    "3. example1- in a match(class) he did bowling, batting and wicket keeping. so object in class is in more than 1 form.\n",
    "4. example2- + operator example its use with int, str and list.\n",
    "##### polymorphism type\n",
    "1. compile time- method overloading- when you have same method name but different parameters\n",
    "2. run time-method overriding- when you have same method name differnt meaning\n",
    "### Inheritance- (most Important)\n",
    "1. it is a technique that proves a functionality that in your class you can fetch your parent class property.\n",
    "2. child class can use parent class functionality.\n",
    "3. child class has inheritent property of parent.\n",
    "4. Animal(parent)-eat, Dog(child)-bark, BabyDog(sub-child)-cute sound. Dog and BabyDog also eat so it can recall it.\n",
    "##### Inheritance Levels\n",
    "1. single level- animal>dog\n",
    "2. multi level- animal>dog>baby dog\n",
    "3. multiple level- animal>dog, animal>babyDog\n",
    "4. hybrid level- sum, product, third(sum,product)\n",
    "### Encapsulation- \n",
    "1. when you use data and methods both into a single class.\n",
    "2. wrapping up of a data + method/fuction into a single unit"
   ]
  },
  {
   "cell_type": "code",
   "execution_count": 91,
   "id": "805e17dc-b210-41aa-8a9b-2f2b3de90548",
   "metadata": {},
   "outputs": [
    {
     "name": "stdout",
     "output_type": "stream",
     "text": [
      "Karan\n",
      "Hello Karan\n",
      "Your age is 19\n"
     ]
    }
   ],
   "source": [
    "# Encapsulation example\n",
    "\n",
    "class Student:\n",
    "    def __init__(self, fname, age):\n",
    "        self.name = fname\n",
    "        self.age = age\n",
    "        \n",
    "    def hello(self):\n",
    "        print(\"Hello\", self.name)\n",
    "\n",
    "    def welcome(self):\n",
    "        print(\"Your age is\", self.age)\n",
    "        \n",
    "\n",
    "s1 = Student(\"Karan\", 19)\n",
    "print(s1.name)\n",
    "s1.hello()\n",
    "s1.welcome()"
   ]
  },
  {
   "cell_type": "code",
   "execution_count": 3,
   "id": "d5cf329b-8596-4621-9ff5-dd28071d03f0",
   "metadata": {},
   "outputs": [
    {
     "name": "stdout",
     "output_type": "stream",
     "text": [
      "Rs. 1000 is debited\n",
      "Your Total Balance = 9000\n",
      "Rs. 234 is debited\n",
      "Your Total Balance = 8766\n",
      "Rs. 1200 is credited\n",
      "Your Total Balance = 9966\n",
      "Rs. 456 is debited\n",
      "Your Total Balance = 9510\n"
     ]
    }
   ],
   "source": [
    "#data abstraction\n",
    "\n",
    "class Account:\n",
    "    def __init__(self, bal, acc_no):\n",
    "        self.balance = bal\n",
    "        self.acc = acc_no\n",
    "\n",
    "    def debit(self, amt):\n",
    "        self.balance -= amt\n",
    "        print (\"Rs.\" , amt, \"is debited\")\n",
    "        print(\"Your Total Balance =\" , self.balance)\n",
    "\n",
    "    def credit(self, amt):\n",
    "        self.balance += amt\n",
    "        print (\"Rs.\" , amt, \"is credited\")\n",
    "        print(\"Your Total Balance =\" , self.balance)\n",
    "\n",
    "    def getbalance():\n",
    "        return self.balance\n",
    "\n",
    "p1 = Account(10000, 1234)\n",
    "p1.debit(1000)\n",
    "p1.debit(234)\n",
    "p1.credit(1200)\n",
    "p1.debit(456)"
   ]
  },
  {
   "cell_type": "code",
   "execution_count": 12,
   "id": "5ef5bd1f-5622-4fc0-862b-e945efe58e3d",
   "metadata": {},
   "outputs": [
    {
     "name": "stdout",
     "output_type": "stream",
     "text": [
      "Barking!!\n",
      "Tuffy!!\n"
     ]
    }
   ],
   "source": [
    "#inheritance\n",
    "\n",
    "class Animal: #Parent / base class\n",
    "    def eat(self):\n",
    "        print(\"Eating!!\")\n",
    "\n",
    "    def hello(self):\n",
    "        print(\"Tuffy!!\")\n",
    "\n",
    "class Dog(Animal): # child class\n",
    "    def Bark(self):\n",
    "        print(\"Barking!!\")\n",
    "\n",
    "d = Dog()\n",
    "d.Bark()\n",
    "d.hello()"
   ]
  },
  {
   "cell_type": "code",
   "execution_count": 19,
   "id": "97b3ed2e-b22c-4530-8ebe-5cd212b4078c",
   "metadata": {},
   "outputs": [
    {
     "name": "stdout",
     "output_type": "stream",
     "text": [
      "Barking!!\n",
      "Sleep!!\n"
     ]
    }
   ],
   "source": [
    "#inheritance- multi-level\n",
    "\n",
    "class Animal: #Parent / base class\n",
    "    def eat(self):\n",
    "        print(\"Eating!!\")\n",
    "\n",
    "    def hello(self):\n",
    "        print(\"Tuffy!!\")\n",
    "\n",
    "class Dog(Animal): # child class\n",
    "    def Bark(self):\n",
    "        print(\"Barking!!\")\n",
    "\n",
    "class BabyDog(Dog):\n",
    "    def sleep(self):\n",
    "        print(\"Sleep!!\")\n",
    "\n",
    "d = BabyDog()\n",
    "d.Bark()\n",
    "d.sleep()"
   ]
  },
  {
   "cell_type": "code",
   "execution_count": 34,
   "id": "3d15e85e-832f-41d6-89af-35203d003ce6",
   "metadata": {},
   "outputs": [
    {
     "name": "stdout",
     "output_type": "stream",
     "text": [
      "2.0\n",
      "50\n",
      "15\n"
     ]
    }
   ],
   "source": [
    "#inheritance- hybrid level\n",
    "\n",
    "class Sum():\n",
    "    def sum(self, a, b):\n",
    "        return a+b\n",
    "\n",
    "class Product():\n",
    "    def product(self, a, b):\n",
    "        return a*b\n",
    "\n",
    "class Third(Sum, Product):\n",
    "    def divide(self, a, b):\n",
    "        return a/b\n",
    "\n",
    "f = Third()\n",
    "print(f.divide(10, 5))\n",
    "print(f.product(10,5))\n",
    "print(f.sum(10, 5))"
   ]
  },
  {
   "cell_type": "code",
   "execution_count": 38,
   "id": "501403d0-f3f8-4671-8592-3b2811241d27",
   "metadata": {},
   "outputs": [
    {
     "name": "stdout",
     "output_type": "stream",
     "text": [
      "30\n",
      "hello world\n",
      "[1, 2, 3, 4, 4, 5, 6, 6]\n"
     ]
    }
   ],
   "source": [
    "# Polymorphism\n",
    "\n",
    "print(10+20)\n",
    "print(\"hello\" + \" \" + \"world\")\n",
    "print([1, 2,3, 4]+ [4, 5,6 ,6])\n"
   ]
  },
  {
   "cell_type": "code",
   "execution_count": 46,
   "id": "7958dfbb-bb67-4086-81d7-ca13e3f614d8",
   "metadata": {},
   "outputs": [
    {
     "name": "stdout",
     "output_type": "stream",
     "text": [
      "Area 600\n",
      "Area 50.24\n"
     ]
    }
   ],
   "source": [
    "# polymorphism\n",
    "\n",
    "class Shape:\n",
    "    def area(self):\n",
    "        return \"undefined\"\n",
    "\n",
    "class Rectangle(Shape):\n",
    "    def __init__(self, l, b):\n",
    "        self.length = l\n",
    "        self.breath = b\n",
    "\n",
    "    def area(self):\n",
    "        return self.length * self.breath\n",
    "\n",
    "class Circle(Shape):\n",
    "    def __init__(self, r):\n",
    "        self.radius = r\n",
    "\n",
    "    def area(self):\n",
    "        return 3.14 * self.radius**2\n",
    "\n",
    "shapes = [Rectangle(20, 30), Circle(4)]\n",
    "for i in shapes:\n",
    "    print (\"Area\" , i.area())"
   ]
  },
  {
   "cell_type": "code",
   "execution_count": 2,
   "id": "e84fe891-a99c-4f90-a54c-63f9b94c3671",
   "metadata": {},
   "outputs": [
    {
     "name": "stdout",
     "output_type": "stream",
     "text": [
      "bark\n",
      "meow\n",
      "Some specific sound\n"
     ]
    }
   ],
   "source": [
    "#polymorphism- run time - Overriding\n",
    "\n",
    "class Animal:\n",
    "    def sound(self):\n",
    "        return \"Some specific sound\"\n",
    "\n",
    "\n",
    "class Dog(Animal):\n",
    "    def sound(self):\n",
    "        return \"bark\"\n",
    "\n",
    "class Cat(Animal):\n",
    "    def sound(self):\n",
    "        return \"meow\"\n",
    "\n",
    "animal = [Dog(), Cat(), Animal()]\n",
    "\n",
    "for i in animal:\n",
    "    print(i.sound())\n",
    "    "
   ]
  },
  {
   "cell_type": "code",
   "execution_count": 14,
   "id": "495f4d6a-2c6c-4d0e-bdc2-87eac56f9fea",
   "metadata": {},
   "outputs": [
    {
     "name": "stdout",
     "output_type": "stream",
     "text": [
      "6000\n",
      "6000\n"
     ]
    }
   ],
   "source": [
    "#polymorphism- complie time- overloading(doesn't work in python)\n",
    "\n",
    "class Sum():\n",
    "    def __init__(self, a, b, c):\n",
    "        self.a = a\n",
    "        self.b = b\n",
    "        self.c = c\n",
    "\n",
    "    def cal(self):\n",
    "        return self.a * self.b\n",
    "        \n",
    "    def cal(self):\n",
    "        return self.a * self.b * self.c\n",
    "\n",
    "s1 = Sum(10, 20, 30)\n",
    "print(s1.cal())\n",
    "print(s1.cal())"
   ]
  },
  {
   "cell_type": "code",
   "execution_count": 16,
   "id": "1e7d27da-7590-49e7-abb0-64c591313e36",
   "metadata": {},
   "outputs": [
    {
     "name": "stdout",
     "output_type": "stream",
     "text": [
      "200\n",
      "6000\n"
     ]
    }
   ],
   "source": [
    "#example \n",
    "class Sum():\n",
    "    def __init__(self, a, b, c):\n",
    "        self.a = a\n",
    "        self.b = b\n",
    "        self.c = c\n",
    "\n",
    "    def cal(self):\n",
    "        return self.a * self.b\n",
    "        \n",
    "    def cal1(self):\n",
    "        return self.a * self.b * self.c\n",
    "\n",
    "s1 = Sum(10, 20, 30)\n",
    "print(s1.cal())\n",
    "print(s1.cal1())"
   ]
  },
  {
   "cell_type": "markdown",
   "id": "d3370364-193d-4706-b368-9964a73c38f7",
   "metadata": {},
   "source": [
    "# class 10\n",
    "\n",
    "## Exception handling\n",
    "intruption which break the normal flow of program\n",
    "\n",
    "### Exception handling types\n",
    "1. try block- if not an error  then print this\n",
    "2. except block- if error then print this\n",
    "3. finally- always run"
   ]
  },
  {
   "cell_type": "code",
   "execution_count": 21,
   "id": "abc897f7-0561-4462-bac7-a5b025127c81",
   "metadata": {},
   "outputs": [
    {
     "name": "stdout",
     "output_type": "stream",
     "text": [
      "Hello\n",
      "Hello\n",
      "error found\n",
      "Hello\n",
      "Hello\n"
     ]
    }
   ],
   "source": [
    "print(\"Hello\")\n",
    "print(\"Hello\")\n",
    "try:\n",
    "    print(a)\n",
    "except:\n",
    "    print(\"error found\")\n",
    "print(\"Hello\")\n",
    "print(\"Hello\")"
   ]
  },
  {
   "cell_type": "code",
   "execution_count": 29,
   "id": "e873b14c-dea9-4c44-ab02-d010953749df",
   "metadata": {},
   "outputs": [
    {
     "name": "stdout",
     "output_type": "stream",
     "text": [
      "Hello\n",
      "Hello\n",
      "error found\n",
      "Always print.\n",
      "Hello\n",
      "Hello\n"
     ]
    }
   ],
   "source": [
    "print(\"Hello\")\n",
    "print(\"Hello\")\n",
    "try:\n",
    "    print(a)\n",
    "except:\n",
    "    print(\"error found\")\n",
    "finally:\n",
    "    print(\"Always print.\")\n",
    "print(\"Hello\")\n",
    "print(\"Hello\")"
   ]
  },
  {
   "cell_type": "code",
   "execution_count": 25,
   "id": "884e3c3d-2647-4e71-8495-b9ea7514523d",
   "metadata": {},
   "outputs": [
    {
     "name": "stdout",
     "output_type": "stream",
     "text": [
      "Hello\n",
      "Hello\n",
      "hello!\n",
      "Hello\n",
      "Hello\n"
     ]
    }
   ],
   "source": [
    "print(\"Hello\")\n",
    "print(\"Hello\")\n",
    "try:\n",
    "    print(\"hello!\")\n",
    "except:\n",
    "    print(\"error found\")\n",
    "print(\"Hello\")\n",
    "print(\"Hello\")"
   ]
  },
  {
   "cell_type": "code",
   "execution_count": 27,
   "id": "8c71a208-159f-4bde-be2a-aee36e267ddc",
   "metadata": {},
   "outputs": [
    {
     "name": "stdout",
     "output_type": "stream",
     "text": [
      "Hello\n",
      "Hello\n",
      "hello!\n",
      "Always print.\n",
      "Hello\n",
      "Hello\n"
     ]
    }
   ],
   "source": [
    "print(\"Hello\")\n",
    "print(\"Hello\")\n",
    "try:\n",
    "    print(\"hello!\")\n",
    "except:\n",
    "    print(\"error found\")\n",
    "finally:\n",
    "    print(\"Always print.\")\n",
    "print(\"Hello\")\n",
    "print(\"Hello\")"
   ]
  },
  {
   "cell_type": "code",
   "execution_count": 39,
   "id": "383f176c-7477-4285-91b8-a2d9bc429ead",
   "metadata": {},
   "outputs": [
    {
     "name": "stdin",
     "output_type": "stream",
     "text": [
      "Enter your number 5\n"
     ]
    },
    {
     "name": "stdout",
     "output_type": "stream",
     "text": [
      "Multiplication table of 5 is :\n",
      "5 X 1 = 5\n",
      "5 X 2 = 10\n",
      "5 X 3 = 15\n",
      "5 X 4 = 20\n",
      "5 X 5 = 25\n",
      "5 X 6 = 30\n",
      "5 X 7 = 35\n",
      "5 X 8 = 40\n",
      "5 X 9 = 45\n",
      "5 X 10 = 50\n",
      "This is exception handling\n"
     ]
    }
   ],
   "source": [
    "a = input(\"Enter your number\")\n",
    "\n",
    "try:\n",
    "    print (f\"Multiplication table of {a} is :\")\n",
    "    for i in range(1, 11):\n",
    "        print (f\"{int(a)} X {int(i)} = {(int(a)*int(i))}\")\n",
    "        \n",
    "except:\n",
    "    print(\"Found Error\")\n",
    "\n",
    "finally:\n",
    "    print(\"This is exception handling\")"
   ]
  },
  {
   "cell_type": "code",
   "execution_count": 41,
   "id": "8c656e81-1344-4a53-81be-78259ceb4e55",
   "metadata": {},
   "outputs": [
    {
     "name": "stdin",
     "output_type": "stream",
     "text": [
      "Enter your number g\n"
     ]
    },
    {
     "name": "stdout",
     "output_type": "stream",
     "text": [
      "Multiplication table of g is :\n",
      "Found Error\n",
      "This is exception handling\n"
     ]
    }
   ],
   "source": [
    "a = input(\"Enter your number\")\n",
    "\n",
    "try:\n",
    "    print (f\"Multiplication table of {a} is :\")\n",
    "    for i in range(1, 11):\n",
    "        print (f\"{int(a)} X {int(i)} = {(int(a)*int(i))}\")\n",
    "        \n",
    "except:\n",
    "    print(\"Found Error\")\n",
    "\n",
    "finally:\n",
    "    print(\"This is exception handling\")"
   ]
  },
  {
   "cell_type": "markdown",
   "id": "9f366e49-2831-474e-bcef-672be5f9ed92",
   "metadata": {},
   "source": [
    "# Multi threading- \n",
    "is a technique in programing that allow multiple thread of execution to run within a single process \n"
   ]
  },
  {
   "cell_type": "code",
   "execution_count": 20,
   "id": "af7013ae-8a76-4a66-92b3-1d84d7c7c25c",
   "metadata": {},
   "outputs": [],
   "source": [
    "import threading\n",
    "import time"
   ]
  },
  {
   "cell_type": "code",
   "execution_count": 5,
   "id": "5fec4861-2552-4b7a-9f7d-ca10d90f9db8",
   "metadata": {},
   "outputs": [
    {
     "name": "stdout",
     "output_type": "stream",
     "text": [
      "Sleeping for 4 Seconds\n",
      "Sleeping for 3 Seconds\n",
      "Sleeping for 2 Seconds\n",
      "9.002150100073777\n"
     ]
    }
   ],
   "source": [
    "#normal function w/o threading\n",
    "\n",
    "def func(sec):\n",
    "    print(f\"Sleeping for {sec} Seconds\")\n",
    "    time.sleep(sec)\n",
    "\n",
    "\n",
    "time1 = time.perf_counter()\n",
    "func(4)\n",
    "func(3)\n",
    "func(2)\n",
    "time2 =  time.perf_counter()\n",
    "print(time2 - time1)"
   ]
  },
  {
   "cell_type": "code",
   "execution_count": 6,
   "id": "93e42f85-757f-4345-9390-c06e3397b5eb",
   "metadata": {},
   "outputs": [
    {
     "name": "stdout",
     "output_type": "stream",
     "text": [
      "Sleeping for 4 Seconds\n",
      "Sleeping for 3 Seconds\n",
      "Sleeping for 2 Seconds\n",
      "9.003917000023648\n"
     ]
    }
   ],
   "source": [
    "# Multi-threading\n",
    "\n",
    "def func(sec):\n",
    "    print(f\"Sleeping for {sec} Seconds\")\n",
    "    time.sleep(sec)\n",
    "\n",
    "\n",
    "time1 = time.perf_counter()\n",
    "func(4)\n",
    "func(3)\n",
    "func(2)\n",
    "time2 =  time.perf_counter()\n",
    "print(time2 - time1)"
   ]
  },
  {
   "cell_type": "code",
   "execution_count": 15,
   "id": "851875db-3423-447f-8f38-ab77159dc8cf",
   "metadata": {},
   "outputs": [
    {
     "name": "stdout",
     "output_type": "stream",
     "text": [
      "Sleeping for 4 Seconds\n",
      "Sleeping for 3 Seconds\n",
      "Sleeping for 2 Seconds\n",
      "0.010726100066676736\n"
     ]
    }
   ],
   "source": [
    "def func(sec):\n",
    "    print(f\"Sleeping for {sec} Seconds\")\n",
    "    time.sleep(sec)\n",
    "time1 = time.perf_counter()\n",
    "t1 = threading.Thread(target= func, args=[4])\n",
    "\n",
    "t2 = threading.Thread(target= func, args=[3])\n",
    "\n",
    "t3 = threading.Thread(target= func, args=[2])\n",
    "\n",
    "t1.start()\n",
    "t2.start()\n",
    "t3.start()\n",
    "time2 = time.perf_counter()\n",
    "print(time2-time1)"
   ]
  },
  {
   "cell_type": "code",
   "execution_count": 17,
   "id": "b08156b7-46c9-4fdf-847a-bc2b96036a6b",
   "metadata": {},
   "outputs": [
    {
     "name": "stdout",
     "output_type": "stream",
     "text": [
      "Sleeping for 4 Seconds\n",
      "Sleeping for 3 Seconds\n",
      "Sleeping for 2 Seconds\n",
      "4.005380600108765\n"
     ]
    }
   ],
   "source": [
    "def func(sec):\n",
    "    print(f\"Sleeping for {sec} Seconds\")\n",
    "    time.sleep(sec)\n",
    "time1 = time.perf_counter()\n",
    "t1 = threading.Thread(target= func, args=[4])\n",
    "\n",
    "t2 = threading.Thread(target= func, args=[3])\n",
    "\n",
    "t3 = threading.Thread(target= func, args=[2])\n",
    "\n",
    "t1.start()\n",
    "t2.start()\n",
    "t3.start()\n",
    "\n",
    "t1.join()\n",
    "t2.join()\n",
    "t3.join()\n",
    "time2 = time.perf_counter()\n",
    "print(time2-time1)"
   ]
  },
  {
   "cell_type": "markdown",
   "id": "f3e5b578-c74d-4748-a60a-47e2ced5cc9e",
   "metadata": {},
   "source": [
    "# Lambda\n",
    "use when you have single line of logic else if you have multi line logic then\n",
    "use normal fucntion"
   ]
  },
  {
   "cell_type": "code",
   "execution_count": 10,
   "id": "58ecc98d-e080-4029-a46e-a784c6bc6943",
   "metadata": {},
   "outputs": [
    {
     "name": "stdout",
     "output_type": "stream",
     "text": [
      "Normal- 6\n",
      "Lambda- 6\n",
      "Lambda- 11\n",
      "Lambda- 27\n",
      "Lambda- 6.0\n"
     ]
    }
   ],
   "source": [
    "# normal way\n",
    "\n",
    "def double(x):\n",
    "    return x*2\n",
    "\n",
    "print(\"Normal-\", double(3))\n",
    "\n",
    "# lambda way\n",
    "double = lambda x : x*2\n",
    "\n",
    "d = lambda x, y : x+y\n",
    "cube = lambda x: x**3\n",
    "avg = lambda x, y, z: (x + y + z)/3\n",
    "\n",
    "print(\"Lambda-\", double(3))\n",
    "print(\"Lambda-\", d(3, 8))\n",
    "print(\"Lambda-\", cube(3))\n",
    "print(\"Lambda-\", avg(4, 6, 8))"
   ]
  },
  {
   "cell_type": "markdown",
   "id": "2df94c2f-b93f-470e-9665-988504bf0839",
   "metadata": {},
   "source": [
    "# map, filter, reduce\n",
    "\n",
    "map is a function to each element in a sequence and written after fuctioning it"
   ]
  },
  {
   "cell_type": "code",
   "execution_count": 22,
   "id": "0a3a1056-53cf-49fe-885d-6ee62fb3bf08",
   "metadata": {},
   "outputs": [
    {
     "name": "stdout",
     "output_type": "stream",
     "text": [
      "[8, 64, 216, 343, 512]\n"
     ]
    }
   ],
   "source": [
    "# map\n",
    "\n",
    "def cube(x):\n",
    "    return x**3\n",
    "\n",
    "l = [2,4, 6,7, 8]\n",
    "\n",
    "newl = list(map(cube, l))\n",
    "print(newl)"
   ]
  },
  {
   "cell_type": "code",
   "execution_count": 30,
   "id": "91795ef9-927f-4727-9af8-b205a1a7efa9",
   "metadata": {},
   "outputs": [
    {
     "name": "stdout",
     "output_type": "stream",
     "text": [
      "[7, 8]\n"
     ]
    }
   ],
   "source": [
    "# filter\n",
    "\n",
    "def filter_function(a):\n",
    "    return a>6\n",
    "\n",
    "l = [2,4, 6,7, 8]\n",
    "\n",
    "newL = list(filter(filter_function,l))\n",
    "print(newL)"
   ]
  },
  {
   "cell_type": "code",
   "execution_count": 32,
   "id": "b221aeb9-72a2-4d9e-9a98-51817d7a25f1",
   "metadata": {},
   "outputs": [],
   "source": [
    "from functools import reduce"
   ]
  },
  {
   "cell_type": "code",
   "execution_count": 34,
   "id": "6fdce95e-f03c-48b5-ace2-9145bea41869",
   "metadata": {},
   "outputs": [
    {
     "name": "stdout",
     "output_type": "stream",
     "text": [
      "27\n"
     ]
    }
   ],
   "source": [
    "# reduce\n",
    "\n",
    "l = [2,4, 6,7, 8] # [6, 6, 7, 8), [12, 7, 8], [19, 8]\n",
    "\n",
    "sum = reduce(lambda x, y :x+y, l)\n",
    "print(sum)"
   ]
  },
  {
   "cell_type": "code",
   "execution_count": null,
   "id": "ba6f526a-9af0-40be-8d41-18b0f8659ce7",
   "metadata": {},
   "outputs": [],
   "source": [
    "# SQL connection\n",
    "\n",
    "import mysql.connector as Myconn\n",
    "\n",
    "mydb = Myconn.connect(host=\"localhost\", user=\"root\", password=\"password123\") #database=\"python\")\n",
    "print(\"Connectiom establised\")\n",
    "\n",
    "# Windows-pip instal mysql-connector-python\n",
    "# mac-pip3 install mysql-connector-python\n",
    "\n",
    "db_curser = mydb.curser()\n",
    "db.cursor.execute(\"creat database python\")\n"
   ]
  }
 ],
 "metadata": {
  "kernelspec": {
   "display_name": "Python [conda env:base] *",
   "language": "python",
   "name": "conda-base-py"
  },
  "language_info": {
   "codemirror_mode": {
    "name": "ipython",
    "version": 3
   },
   "file_extension": ".py",
   "mimetype": "text/x-python",
   "name": "python",
   "nbconvert_exporter": "python",
   "pygments_lexer": "ipython3",
   "version": "3.12.7"
  }
 },
 "nbformat": 4,
 "nbformat_minor": 5
}
